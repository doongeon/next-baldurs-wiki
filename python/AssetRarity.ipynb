{
 "cells": [
  {
   "cell_type": "code",
   "execution_count": 31,
   "metadata": {},
   "outputs": [],
   "source": [
    "from typing import Union\n",
    "import re\n",
    "import json\n",
    "\n",
    "\n",
    "fs = open('gameData_v04.json', 'r')\n",
    "weapons = json.load(fs)\n",
    "fs.close()"
   ]
  },
  {
   "cell_type": "code",
   "execution_count": 32,
   "metadata": {},
   "outputs": [
    {
     "name": "stdout",
     "output_type": "stream",
     "text": [
      "\"필살\"의 등급은 Very Rare입니다.\n"
     ]
    }
   ],
   "source": [
    "def getItemRarity(item_name: str):\n",
    "    \n",
    "    # Define rarity categories\n",
    "    common_items = [\"감시자 석궁\", \"감시자 대검\", \"달등불\"]\n",
    "    uncommon_items = [\n",
    "        \"사냥하는 숏보우\", \"인지의 활 / 인지력의 활\", \"주문도둑\", \"헬라이더 장궁\", \"방화자\", \"간드렐의 포부\", \"비전 역장의 석궁\",\"의식용 단검\", \"워그송곳니\", \"사냥꾼의 단검\", \"샤르의 의식 단검\", \"살인자의 자상\",\n",
    "        \"선제 공격의 숏소드\", \"신속 대응\", \"실반 시미터\", \"감시자의 인도 (공식 번역: 주시자의 인도)\", \"절대자의 눈\",\n",
    "        \"들쭉날쭉한 창\", \"번개 찌르개\", \"비명의 검\", \"파열의 검\", \"허피\", \"귀환 장창\",\n",
    "        \"의식용 도끼\", \"용의 손아귀\", \"마녀파괴자\", \"피부파열자\", \"창조의 빛\", \"처형인의 도끼\",\n",
    "        \"정말 무거운 그레이트액스\", \"영원불길 검\", \"정의의 검\", \"언덕 거인 힘의 몽둥이\",\n",
    "        \"쇠나무 곤봉\", \"하늘파괴자\", \"빛나는 두개골 분쇄자\", \"로비아타의 채찍\", \"자이어나이드\",\n",
    "        \"자연의 올무\", \"비의 무희\", \"코렐론의 품위\", \"마녀의 지팡이\", \"비전 축복의 지팡이\",\n",
    "        \"멜프의 첫 번째 지팡이\", \"신앙 분쇄기\", \"하마르흐라프트\", \"천상 파괴자\", \"파멸의 망치\"\n",
    "    ]\n",
    "    rare_items = [\n",
    "        \"밴시의 활\", \"뜻밖의 행운\", \"어둠불꽃 숏보우\", \"전격활\", \"거인힘줄 활\", \"백발백중\", \"거인 파괴자\",\n",
    "        \"헤롤드\", \"구르의 긴 팔\",\"한파\", \"수서르 단검\", \"쓰라린 비탄\", \"매복자\", \"썰어넘기는 숏소드\", \"움켜쥐는 그림자의 검\",\n",
    "        \"파멸\", \"밤의 창\", \"번쩍이는 끝\", \"조화로운 결투가\", \"운명의 반전\", \"레이븐가드의 고행자\",\n",
    "        \"보이지 않는 위험\", \"돌파하는 파이크스태프\", \"부알의 낫\", \"수서르 낫\", \"파도어머니의 낫\",\n",
    "        \"아다만틴 시미터\", \"가시 검\", \"짠물 시미터\", \"아다만틴 롱소드\", \"억압받는 영혼의 검\",\n",
    "        \"라레시안의 분노\", \"팔라 알루베\", \"잔인한 독침\", \"황제의 검\", \"블랙가드의 검\", \"온도발전 도끼\",\n",
    "        \"하모늄 미늘창\", \"비애\", \"괴물 학살자 협도\", \"드레이크 식도 협도\", \"달빛 협도\",\n",
    "        \"피투성이 대형 도끼 / 피투성이 그레이트액스\", \"수호의 그레이트액스\", \"수서르 대검\", \"조고랄의 대검\",\n",
    "        \"영혼분쇄자 그레이트소드\", \"그림자 등불\", \"아다만틴 메이스\", \"부서진 도리깨\", \"주문 폭죽\",\n",
    "        \"창조의 메아리\", \"불협화음\", \"빅보이의 입질 장난감\", \"황금 새끼용 지팡이\", \"중단의 지팡이\",\n",
    "        \"아스카틀라의 절망\", \"비겁자 지팡이\", \"흰참나무\", \"부식의 도리깨\", \"수호자의 도리깨\",\n",
    "        \"영겁의 플레일\", \"쥐방망이\", \"뇌진탕 걸린 놈\", \"케서릭의 워해머\", \"충전결속 워해머\",\n",
    "        \"광대의 망치\", \"시체분쇄기\", \"돌로어 아마루스\"\n",
    "    ]\n",
    "    very_rare_items = [\n",
    "        \"역병인도자\", \"필살\", \"지옥 불길 손쇠뇌\", \"날조의 석궁\", \"지옥불 엔진 석궁\",\"광시곡\", \"부동제조기\", \"생명력 탈취의 검\", \"지하 미궁 왕의 나이프\", \"파도의 삼지창\",\n",
    "        \"신성한 별\", \"펠로르 태양 검\", \"지옥의 레이피어\", \"벨름\", \"저스티시어의 시미터\",\n",
    "        \"경계의 미늘창\", \"춤추는 산들바람\", \"세탄\", \"지옥불 대형 도끼\", \"혼돈의 검\",\n",
    "        \"철회의 횃불\", \"시녀의 메이스\", \"백열 지팡이\", \"비탄하는 서리\", \"사령계 애호의 지팡이\",\n",
    "        \"양 지팡이\", \"주문력의 지팡이\", \"재난\", \"드워프 투척기\", \"적 파괴자\"\n",
    "    ]\n",
    "    legendary_items = [\"곤트르 마엘\",\"피의 갈증\", \"선홍빛 장난\", \"결투사의 특권\", \"셀루네의 밤의 창\", \"샤의 해질녘의 창\",\n",
    "        \"니룰나\", \"영계의 은검\", \"발더란의 거인살해자\", \"신도의 철퇴\", \"라샌더의 피\",\n",
    "        \"마르코헤쉬키르\", \"오르페우스의 망치\"]\n",
    "\n",
    "    # Check which category the item belongs to\n",
    "    if item_name in common_items:\n",
    "        return \"Common\"\n",
    "    elif item_name in uncommon_items:\n",
    "        return \"Uncommon\"\n",
    "    elif item_name in rare_items:\n",
    "        return \"Rare\"\n",
    "    elif item_name in very_rare_items:\n",
    "        return \"Very Rare\"\n",
    "    elif item_name in legendary_items:\n",
    "        return \"Legendary\"\n",
    "    else:\n",
    "        return None  # Return None if item not found\n",
    "\n",
    "# Example usage:\n",
    "item_name = \"필살\"\n",
    "rarity = getItemRarity(item_name)\n",
    "if rarity:\n",
    "    print(f'\"{item_name}\"의 등급은 {rarity}입니다.')\n",
    "else:\n",
    "    print(f'\"{item_name}\"의 등급을 찾을 수 없습니다.')\n"
   ]
  },
  {
   "cell_type": "code",
   "execution_count": null,
   "metadata": {},
   "outputs": [],
   "source": []
  },
  {
   "cell_type": "code",
   "execution_count": 33,
   "metadata": {},
   "outputs": [],
   "source": [
    "for weapon in weapons:\n",
    "  rarity = getItemRarity(weapon[\"name_ko\"])\n",
    "  if(rarity is None): \n",
    "    print(weapon[\"name_ko\"])"
   ]
  },
  {
   "cell_type": "code",
   "execution_count": null,
   "metadata": {},
   "outputs": [],
   "source": []
  }
 ],
 "metadata": {
  "kernelspec": {
   "display_name": "Python 3",
   "language": "python",
   "name": "python3"
  },
  "language_info": {
   "codemirror_mode": {
    "name": "ipython",
    "version": 3
   },
   "file_extension": ".py",
   "mimetype": "text/x-python",
   "name": "python",
   "nbconvert_exporter": "python",
   "pygments_lexer": "ipython3",
   "version": "3.11.9"
  }
 },
 "nbformat": 4,
 "nbformat_minor": 2
}
