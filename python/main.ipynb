{
 "cells": [
  {
   "cell_type": "code",
   "execution_count": 1,
   "metadata": {},
   "outputs": [],
   "source": [
    "import json\n",
    "import copy"
   ]
  },
  {
   "cell_type": "code",
   "execution_count": 2,
   "metadata": {},
   "outputs": [],
   "source": [
    "\n",
    "fs = open('gameData.json', 'r')\n",
    "gameData = json.load(fs)\n",
    "fs.close()\n",
    "\n",
    "\n",
    "weapons = gameData['weapons']"
   ]
  },
  {
   "cell_type": "code",
   "execution_count": 3,
   "metadata": {},
   "outputs": [],
   "source": [
    "weapons_traits = [weapon['trait'].split(\", \") for weapon in weapons]\n",
    "new_weapons_traits = []\n",
    "\n",
    "for i, weapon_traits in enumerate(weapons_traits):\n",
    "  new_Weapon_traits = []\n",
    "  for trait in weapon_traits:\n",
    "    trait = trait.replace('형', '')\n",
    "    new_Weapon_traits.append(trait)\n",
    "\n",
    "  new_weapons_traits.append(new_Weapon_traits)\n",
    "\n",
    "\n",
    "new_weapons = []\n",
    "\n",
    "for i, weapon in enumerate(weapons):\n",
    "  new_weapon = copy.deepcopy(weapon)\n",
    "  new_weapon['trait'] = new_weapons_traits[i]\n",
    "  new_weapons.append(new_weapon)\n",
    "  \n",
    "weapons = new_weapons"
   ]
  },
  {
   "cell_type": "code",
   "execution_count": 4,
   "metadata": {},
   "outputs": [],
   "source": [
    "weapons_damages = [weapon['damage'].split('\\n') for weapon in weapons]\n",
    "weapons_damages = [[weapon_damage.strip() for weapon_damage in weapon_damages if weapon_damage.strip() != ''] for weapon_damages in weapons_damages]\n",
    "# ['1d6+1', '역장'], 한개 모양 다름\n",
    "new_weapons_damages = [[weapon_damage.replace('+ ', '+') for weapon_damage in weapon_damages] for weapon_damages in weapons_damages]\n",
    "new_weapons = []\n",
    "\n",
    "for i, weapon in enumerate(weapons):\n",
    "  new_weapon = copy.deepcopy(weapon)\n",
    "  new_weapon['damage'] = new_weapons_damages[i]\n",
    "  new_weapons.append(new_weapon)\n",
    "  \n",
    "weapons = new_weapons"
   ]
  },
  {
   "cell_type": "code",
   "execution_count": 5,
   "metadata": {},
   "outputs": [],
   "source": [
    "newWeapons = []\n",
    "\n",
    "for weapon in weapons:\n",
    "  newWeapon = copy.deepcopy(weapon)\n",
    "  newRange = float(newWeapon['weaponRange'].replace('m', ''))\n",
    "  newWeapon['weaponRange'] = newRange\n",
    "  newWeapons.append(newWeapon)\n",
    "\n",
    "weapons = newWeapons"
   ]
  },
  {
   "cell_type": "code",
   "execution_count": null,
   "metadata": {},
   "outputs": [],
   "source": []
  },
  {
   "cell_type": "code",
   "execution_count": 6,
   "metadata": {},
   "outputs": [],
   "source": [
    "newWeapons = []\n",
    "\n",
    "for weapon in weapons:\n",
    "  newWeapon = copy.deepcopy(weapon)\n",
    "  newEnchantment = int(newWeapon['enchantment'])\n",
    "  newWeapon['enchantment'] = newEnchantment\n",
    "  newWeapons.append(newWeapon)\n",
    "\n",
    "weapons = newWeapons"
   ]
  },
  {
   "cell_type": "code",
   "execution_count": 7,
   "metadata": {},
   "outputs": [],
   "source": [
    "def getDamage(numberOfDice: int, sidesOfDice: int, constant_damage = 0):\n",
    "  max_damage = numberOfDice * sidesOfDice + constant_damage\n",
    "  min_damage = numberOfDice + constant_damage\n",
    "  mean_damage = (1 + sidesOfDice) / 2 * numberOfDice\n",
    "  \n",
    "  return {'maxDamage': max_damage, 'minDamage': min_damage, 'meanDamage': mean_damage}"
   ]
  },
  {
   "cell_type": "code",
   "execution_count": 8,
   "metadata": {},
   "outputs": [],
   "source": [
    "def getMainDamage(mainDamage: str):\n",
    "  constant_damage = 0\n",
    "  mainDamage = mainDamage.split('+')\n",
    "  \n",
    "  if(len(mainDamage) == 2): constant_damage += int(mainDamage[1])\n",
    "  mainDamage = mainDamage[0]\n",
    "\n",
    "  if('(' in mainDamage): mainDamage = mainDamage.split('(')[0]\n",
    "\n",
    "  splitedDice = mainDamage.split('d')\n",
    "  numberOfDice = int(splitedDice[0])\n",
    "  sidesOfDice = int(splitedDice[1])\n",
    "\n",
    "  return getDamage(numberOfDice, sidesOfDice, constant_damage)"
   ]
  },
  {
   "cell_type": "code",
   "execution_count": 9,
   "metadata": {},
   "outputs": [],
   "source": [
    "def getAdditionalDamage(addedDamage: str):\n",
    "  newAddedDamage = addedDamage.replace('+', '')\n",
    "  newAddedDamage = newAddedDamage.split('d')\n",
    "\n",
    "  numberOfDice = int(newAddedDamage[0])\n",
    "  sidesOfDice = int(newAddedDamage[1])\n",
    "\n",
    "  return getDamage(numberOfDice, sidesOfDice)"
   ]
  },
  {
   "cell_type": "code",
   "execution_count": null,
   "metadata": {},
   "outputs": [],
   "source": []
  },
  {
   "cell_type": "code",
   "execution_count": 10,
   "metadata": {},
   "outputs": [],
   "source": [
    "def getWeaponDamage(weapon):\n",
    "  maxDamage = 0\n",
    "  minDamage = 0\n",
    "  meanDamage = 0\n",
    "\n",
    "  damages = weapon['damage']\n",
    "  damages = ' '.join(damages)\n",
    "  damages = damages.split(' ')\n",
    "  damages = [damage for damage in damages if('d' in damage)]\n",
    "\n",
    "  default_damage = [damage for damage in damages if(damage[0] != '+')]\n",
    "  default_damage = default_damage[0]\n",
    "\n",
    "  added_damages = [damage for damage in damages if(damage[0] == '+')]\n",
    "\n",
    "  mainDamage = getMainDamage(default_damage)\n",
    "  aditionalDamage = [getAdditionalDamage(damage) for damage in added_damages]\n",
    "\n",
    "  maxDamage += mainDamage['maxDamage']\n",
    "  minDamage += mainDamage['minDamage']\n",
    "  meanDamage += mainDamage['meanDamage']\n",
    "\n",
    "  for damage in aditionalDamage:\n",
    "    maxDamage += damage['maxDamage']\n",
    "    minDamage += damage['minDamage']\n",
    "    meanDamage += damage['meanDamage']\n",
    "\n",
    "  return {'maxDamage': maxDamage, 'minDamage': minDamage, 'meanDamage': meanDamage};\n"
   ]
  },
  {
   "cell_type": "code",
   "execution_count": 11,
   "metadata": {},
   "outputs": [],
   "source": [
    "newWeapons = []\n",
    "\n",
    "for i, weapon in enumerate(weapons):\n",
    "  newWeapon = copy.deepcopy(weapon)\n",
    "  newWeapon['damageStat'] = weapon_damage = getWeaponDamage(weapon)\n",
    "  newWeapons.append(newWeapon)\n",
    "\n",
    "weapons = newWeapons"
   ]
  },
  {
   "cell_type": "code",
   "execution_count": 12,
   "metadata": {},
   "outputs": [],
   "source": [
    "newWeapons = []\n",
    "\n",
    "for weapon in weapons:\n",
    "  newWeapon = copy.deepcopy(weapon)\n",
    "  newWeapon['info'] = ' '.join([ token for token in newWeapon['info'].split(' ') if(token != '')]).replace('\\n', '')\n",
    "  newWeapons.append(newWeapon)\n",
    "\n",
    "weapons = newWeapons\n",
    "\n"
   ]
  },
  {
   "cell_type": "code",
   "execution_count": null,
   "metadata": {},
   "outputs": [],
   "source": []
  },
  {
   "cell_type": "code",
   "execution_count": 13,
   "metadata": {},
   "outputs": [],
   "source": [
    "newWeapons = []\n",
    "\n",
    "for weapon in weapons:\n",
    "  newWeapon = copy.deepcopy(weapon)\n",
    "  newWeapon['special'] = ' '.join([ token.strip() for token in newWeapon['special'].split(' ') if(token != '')]).split('  ')\n",
    "  if(newWeapon['special'][0] == '-'): newWeapon['special'] = []\n",
    "  newWeapons.append(newWeapon)\n",
    "\n",
    "weapons = newWeapons\n",
    "\n",
    "\n"
   ]
  },
  {
   "cell_type": "code",
   "execution_count": 14,
   "metadata": {},
   "outputs": [],
   "source": [
    "newWeapons = []\n",
    "\n",
    "for weapon in weapons:\n",
    "  newWeapon = copy.deepcopy(weapon)\n",
    "  newWeapon['weaponActions'] = ' '.join([token.lstrip() for token in newWeapon['weaponActions'].split(' ') if(token != '')])\n",
    "  if(':' in newWeapon['weaponActions'].split('\\n')[0]):\n",
    "    defaultWeaponActions = []\n",
    "    addtionalWeaponActions = newWeapon['weaponActions'].split('\\n')[0:]\n",
    "  else :\n",
    "    defaultWeaponActions = newWeapon['weaponActions'].split('\\n')[0].replace(',',' ').split('  ')\n",
    "    addtionalWeaponActions = newWeapon['weaponActions'].split('\\n')[1:]\n",
    "  \n",
    "  addtionalWeaponActions = ' '.join(addtionalWeaponActions)\n",
    "  addtionalWeaponActions = addtionalWeaponActions.strip().replace('  ', ' ').split('  ')\n",
    "\n",
    "  weaponActions = defaultWeaponActions + addtionalWeaponActions\n",
    "  weaponActions = [weaponAction for weaponAction in weaponActions if(weaponAction != '' and weaponAction != '-')]\n",
    "\n",
    "  newWeapon['weaponActions'] = weaponActions\n",
    "  newWeapons.append(newWeapon)\n",
    "\n",
    "weapons = newWeapons"
   ]
  },
  {
   "cell_type": "code",
   "execution_count": 15,
   "metadata": {},
   "outputs": [],
   "source": [
    "newWeapons = []\n",
    "\n",
    "for weapon in weapons:\n",
    "  newWeapon = copy.deepcopy(weapon)\n",
    "  if(newWeapon['info'] == ''): newWeapon['info'] = '-'\n",
    "  newWeapons.append(newWeapon)\n",
    "\n",
    "weapons = newWeapons\n",
    "  \n"
   ]
  },
  {
   "cell_type": "code",
   "execution_count": 21,
   "metadata": {},
   "outputs": [],
   "source": [
    "for i, weapon in enumerate(weapons):\n",
    "  weapon['id'] = i + 1"
   ]
  },
  {
   "cell_type": "code",
   "execution_count": 23,
   "metadata": {},
   "outputs": [],
   "source": [
    "# fs = open('gameData_v03.json', 'w')\n",
    "# json.dump(weapons, fs, ensure_ascii=False)\n",
    "# fs.close()"
   ]
  },
  {
   "cell_type": "code",
   "execution_count": null,
   "metadata": {},
   "outputs": [],
   "source": []
  }
 ],
 "metadata": {
  "kernelspec": {
   "display_name": "env",
   "language": "python",
   "name": "python3"
  },
  "language_info": {
   "codemirror_mode": {
    "name": "ipython",
    "version": 3
   },
   "file_extension": ".py",
   "mimetype": "text/x-python",
   "name": "python",
   "nbconvert_exporter": "python",
   "pygments_lexer": "ipython3",
   "version": "3.11.9"
  }
 },
 "nbformat": 4,
 "nbformat_minor": 2
}
