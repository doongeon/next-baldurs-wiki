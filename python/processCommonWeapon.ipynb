{
 "cells": [
  {
   "cell_type": "code",
   "execution_count": 72,
   "metadata": {},
   "outputs": [],
   "source": [
    "import json\n",
    "import copy"
   ]
  },
  {
   "cell_type": "code",
   "execution_count": 73,
   "metadata": {},
   "outputs": [],
   "source": [
    "with(open(\"commonWeapon_v01.json\", \"r\") as fs):\n",
    "  data = json.load(fs)\n",
    "\n",
    "weapons = data"
   ]
  },
  {
   "cell_type": "code",
   "execution_count": 103,
   "metadata": {},
   "outputs": [
    {
     "data": {
      "text/plain": [
       "{'name': '마울',\n",
       " 'damage': ['2d6 타격'],\n",
       " 'weaponRange': 1.5,\n",
       " 'trait': ['마울', '양손형'],\n",
       " '무기_스킬': ['집념(주무기 전용)'],\n",
       " '숙련_스킬': ['등골파괴자', '뇌진탕 충돌']}"
      ]
     },
     "execution_count": 103,
     "metadata": {},
     "output_type": "execute_result"
    }
   ],
   "source": [
    "weapon"
   ]
  },
  {
   "cell_type": "code",
   "execution_count": 116,
   "metadata": {},
   "outputs": [],
   "source": [
    "for weapon in weapons:\n",
    "  damages = weapon[\"damage\"][0].split(\"+\")\n",
    "  attackTypes = []\n",
    "  for damage in damages:\n",
    "    token = damage.strip().split(\" \")[1:]\n",
    "    attackType = \"\".join(token)\n",
    "    attackTypes.append(attackType)\n",
    "  \n",
    "  weapon[\"attackTypes\"] = attackTypes"
   ]
  },
  {
   "cell_type": "code",
   "execution_count": 119,
   "metadata": {},
   "outputs": [],
   "source": [
    "for weapon in weapons:\n",
    "  damages = weapon[\"damage\"][0].split(\"+\")\n",
    "  damageStat = {}\n",
    "                \n",
    "  for damage in damages:\n",
    "    numberOfDice, maxDiceNumber = (damage.strip().split(\" \")[0].split(\"(\")[0].split(\"d\"))\n",
    "    maxDamage = int(numberOfDice) * int(maxDiceNumber)\n",
    "    meanDamage = (1 + int(maxDiceNumber)) / 2 * int(numberOfDice)\n",
    "    minDamage = int(numberOfDice) * 1\n",
    "    damageStat[\"maxDamage\"] = maxDamage\n",
    "    damageStat[\"minDamage\"] = minDamage\n",
    "    damageStat[\"meanDamage\"] = meanDamage\n",
    "  \n",
    "  weapon[\"name_en\"] = \"\"\n",
    "  weapon[\"rarity\"] = \"Common\"\n",
    "  weapon[\"damageStat\"] = damageStat\n",
    "  weapon[\"weaponActions\"] = weapon[\"숙련_스킬\"]\n",
    "  weapon[\"special\"] = weapon[\"무기_스킬\"]\n",
    "  weapon[\"name_ko\"] = weapon[\"name\"]\n",
    "  del weapon[\"name\"]\n",
    "  del weapon[\"숙련_스킬\"]\n",
    "  del weapon[\"무기_스킬\"]\n",
    "  weapon[\"comment\"] = \"\"\n",
    "  weapon[\"howToGet\"] = \"\"\n",
    "  weapon[\"info\"] = \"\""
   ]
  },
  {
   "cell_type": "code",
   "execution_count": 121,
   "metadata": {},
   "outputs": [],
   "source": [
    "commonWeapons = weapons"
   ]
  },
  {
   "cell_type": "code",
   "execution_count": 122,
   "metadata": {},
   "outputs": [],
   "source": [
    "# with(open(\"processedCommonWeapon.json\", \"w\") as fs):\n",
    "#   json.dump(weapons ,fs, ensure_ascii=False)"
   ]
  },
  {
   "cell_type": "code",
   "execution_count": 123,
   "metadata": {},
   "outputs": [],
   "source": [
    "with(open(\"gameData_v06.json\", \"r\") as fs):\n",
    "  weapons = json.load(fs)"
   ]
  },
  {
   "cell_type": "code",
   "execution_count": 124,
   "metadata": {},
   "outputs": [],
   "source": [
    "newWeapons = commonWeapons + weapons"
   ]
  },
  {
   "cell_type": "code",
   "execution_count": 125,
   "metadata": {},
   "outputs": [],
   "source": [
    "for i, weapon in enumerate(newWeapons):\n",
    "  weapon[\"id\"] = i + 1"
   ]
  },
  {
   "cell_type": "code",
   "execution_count": 126,
   "metadata": {},
   "outputs": [],
   "source": [
    "with(open(\"gameData_v07.json\", \"w\") as fs):\n",
    "  json.dump(newWeapons, fs, ensure_ascii=False)"
   ]
  },
  {
   "cell_type": "code",
   "execution_count": null,
   "metadata": {},
   "outputs": [],
   "source": []
  }
 ],
 "metadata": {
  "kernelspec": {
   "display_name": "Python 3",
   "language": "python",
   "name": "python3"
  },
  "language_info": {
   "codemirror_mode": {
    "name": "ipython",
    "version": 3
   },
   "file_extension": ".py",
   "mimetype": "text/x-python",
   "name": "python",
   "nbconvert_exporter": "python",
   "pygments_lexer": "ipython3",
   "version": "3.11.9"
  }
 },
 "nbformat": 4,
 "nbformat_minor": 2
}
