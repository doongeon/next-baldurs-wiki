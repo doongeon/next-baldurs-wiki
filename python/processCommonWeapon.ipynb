{
 "cells": [
  {
   "cell_type": "code",
   "execution_count": 72,
   "metadata": {},
   "outputs": [],
   "source": [
    "import json\n",
    "import copy"
   ]
  },
  {
   "cell_type": "code",
   "execution_count": 73,
   "metadata": {},
   "outputs": [],
   "source": [
    "with(open(\"commonWeapon_v01.json\", \"r\") as fs):\n",
    "  data = json.load(fs)\n",
    "\n",
    "weapons = data"
   ]
  },
  {
   "cell_type": "code",
   "execution_count": 74,
   "metadata": {},
   "outputs": [
    {
     "name": "stdout",
     "output_type": "stream",
     "text": [
      "['1d4 관통']\n",
      "['1d4 관통']\n",
      "['1d4 관통']\n",
      "['1d4 관통']\n",
      "['1d4 관통']\n",
      "['1d6 관통']\n",
      "['1d6 관통']\n",
      "['1d6 관통']\n",
      "['1d6 관통']\n",
      "['1d8(1d6) 관통']\n",
      "['1d8(1d6) 관통']\n",
      "['1d8(1d6) 관통']\n",
      "['1d8 관통']\n",
      "['1d8 관통']\n",
      "['1d8 관통']\n",
      "['1d8 관통']\n",
      "['1d10 관통']\n",
      "['1d4 참격']\n",
      "['1d6 참격']\n",
      "['1d6 참격']\n",
      "['1d6 참격']\n",
      "['1d6 참격']\n",
      "['1d6 참격']\n",
      "['1d8 참격']\n",
      "['1d10(1d8) 참격']\n",
      "['1d10(1d8) 참격']\n",
      "['1d10(1d8) 참격']\n",
      "['1d10 참격']\n",
      "['1d10 참격']\n",
      "['1d12 참격']\n",
      "['2d6 참격']\n",
      "['2d6 참격']\n",
      "['1d4 타격']\n",
      "['1d4 타격']\n",
      "['1d4 타격']\n",
      "['1d4 타격']\n",
      "['1d4 타격']\n",
      "['1d4 타격 + 1d4 화염[*횃불 불이 켜져있을 경우]']\n",
      "['1d6 타격']\n",
      "['1d6 타격']\n",
      "['1d8(1d6) 타격']\n",
      "['1d8(1d6) 타격']\n",
      "['1d8 타격']\n",
      "['1d8 타격']\n",
      "['1d10(1d8) 타격']\n",
      "['2d6 타격']\n"
     ]
    }
   ],
   "source": [
    "for weapon in weapons:\n",
    "  print(weapon[\"damage\"])"
   ]
  },
  {
   "cell_type": "code",
   "execution_count": 87,
   "metadata": {},
   "outputs": [],
   "source": [
    "\n",
    "newWeapons = []\n",
    "\n",
    "for weapon in weapons:\n",
    "  newWeapon = copy.deepcopy(weapon)\n",
    "  damages = newWeapon[\"damage\"][0].split(\"+\")\n",
    "  damageStat = {}\n",
    "                \n",
    "  for damage in damages:\n",
    "    numberOfDice, maxDiceNumber = (damage.strip().split(\" \")[0].split(\"(\")[0].split(\"d\"))\n",
    "    maxDamage = int(numberOfDice) * int(maxDiceNumber)\n",
    "    meanDamage = (1 + int(maxDiceNumber)) / 2 * int(numberOfDice)\n",
    "    minDamage = int(numberOfDice) * 1\n",
    "    damageStat[\"maxDamage\"] = maxDamage\n",
    "    damageStat[\"minDamage\"] = minDamage\n",
    "    damageStat[\"meanDamage\"] = meanDamage\n",
    "  \n",
    "  newWeapon[\"name_en\"] = \"\"\n",
    "  newWeapon[\"rarity\"] = \"Common\"\n",
    "  newWeapon[\"damageStat\"] = damageStat\n",
    "  newWeapon[\"weaponActions\"] = newWeapon[\"숙련_스킬\"]\n",
    "  newWeapon[\"special\"] = newWeapon[\"무기_스킬\"]\n",
    "  newWeapon[\"name_ko\"] = newWeapon[\"name\"]\n",
    "  del newWeapon[\"name\"]\n",
    "  del newWeapon[\"숙련_스킬\"]\n",
    "  del newWeapon[\"무기_스킬\"]\n",
    "  newWeapon[\"comment\"] = \"\"\n",
    "  newWeapon[\"howToGet\"] = \"\"\n",
    "  newWeapon[\"info\"] = \"\"\n",
    "\n",
    "  newWeapons.append(newWeapon)"
   ]
  },
  {
   "cell_type": "code",
   "execution_count": 88,
   "metadata": {},
   "outputs": [
    {
     "data": {
      "text/plain": [
       "{'name': '단검',\n",
       " 'damage': ['1d4 관통'],\n",
       " 'weaponRange': 1.5,\n",
       " 'trait': ['단검', '경량형', '기교형', '투척형'],\n",
       " 'name_en': '',\n",
       " 'rarity': 'Common',\n",
       " 'damageStat': {'maxDamage': 4, 'minDamage': 1, 'meanDamage': 2.5},\n",
       " 'weaponActions': ['관통 공격'],\n",
       " 'special': [],\n",
       " 'comment': '',\n",
       " 'howToGet': '',\n",
       " 'info': ''}"
      ]
     },
     "execution_count": 88,
     "metadata": {},
     "output_type": "execute_result"
    }
   ],
   "source": [
    "newWeapons[0]"
   ]
  },
  {
   "cell_type": "code",
   "execution_count": null,
   "metadata": {},
   "outputs": [],
   "source": []
  },
  {
   "cell_type": "code",
   "execution_count": 77,
   "metadata": {},
   "outputs": [],
   "source": [
    "# commonWeapons = weapons"
   ]
  },
  {
   "cell_type": "code",
   "execution_count": 78,
   "metadata": {},
   "outputs": [],
   "source": [
    "# with(open(\"processedCommonWeapon.json\", \"w\") as fs):\n",
    "#   json.dump(weapons ,fs, ensure_ascii=False)"
   ]
  },
  {
   "cell_type": "code",
   "execution_count": 79,
   "metadata": {},
   "outputs": [],
   "source": [
    "# with(open(\"gameData_v06.json\", \"r\") as fs):\n",
    "#   weapons = json.load(fs)"
   ]
  },
  {
   "cell_type": "code",
   "execution_count": 80,
   "metadata": {},
   "outputs": [],
   "source": [
    "# newWeapons = commonWeapons + weapons"
   ]
  },
  {
   "cell_type": "code",
   "execution_count": 81,
   "metadata": {},
   "outputs": [],
   "source": [
    "# for i, weapon in enumerate(newWeapons):\n",
    "#   weapon[\"id\"] = i + 1"
   ]
  },
  {
   "cell_type": "code",
   "execution_count": 82,
   "metadata": {},
   "outputs": [],
   "source": [
    "# with(open(\"gameData_v07.json\", \"w\") as fs):\n",
    "#   json.dump(newWeapons, fs, ensure_ascii=False)"
   ]
  },
  {
   "cell_type": "code",
   "execution_count": null,
   "metadata": {},
   "outputs": [],
   "source": []
  }
 ],
 "metadata": {
  "kernelspec": {
   "display_name": "Python 3",
   "language": "python",
   "name": "python3"
  },
  "language_info": {
   "codemirror_mode": {
    "name": "ipython",
    "version": 3
   },
   "file_extension": ".py",
   "mimetype": "text/x-python",
   "name": "python",
   "nbconvert_exporter": "python",
   "pygments_lexer": "ipython3",
   "version": "3.11.9"
  }
 },
 "nbformat": 4,
 "nbformat_minor": 2
}
